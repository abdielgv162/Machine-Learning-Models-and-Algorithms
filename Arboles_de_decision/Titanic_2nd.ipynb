{
  "nbformat": 4,
  "nbformat_minor": 0,
  "metadata": {
    "kernelspec": {
      "language": "python",
      "display_name": "Python 3",
      "name": "python3"
    },
    "language_info": {
      "pygments_lexer": "ipython3",
      "nbconvert_exporter": "python",
      "version": "3.6.4",
      "file_extension": ".py",
      "codemirror_mode": {
        "name": "ipython",
        "version": 3
      },
      "name": "python",
      "mimetype": "text/x-python"
    },
    "colab": {
      "name": "titanic-2nd.ipynb",
      "provenance": [],
      "collapsed_sections": []
    }
  },
  "cells": [
    {
      "cell_type": "code",
      "metadata": {
        "_uuid": "8f2839f25d086af736a60e9eeb907d3b93b6e0e5",
        "_cell_guid": "b1076dfc-b9ad-4769-8c92-a6c4dae69d19",
        "execution": {
          "iopub.status.busy": "2021-07-06T17:12:02.603965Z",
          "iopub.execute_input": "2021-07-06T17:12:02.604693Z",
          "iopub.status.idle": "2021-07-06T17:12:02.645115Z",
          "shell.execute_reply.started": "2021-07-06T17:12:02.604496Z",
          "shell.execute_reply": "2021-07-06T17:12:02.644008Z"
        },
        "trusted": true,
        "id": "rWKIp3fmRbtB",
        "outputId": "307d1d3d-6444-471b-f725-789c422fa727"
      },
      "source": [
        "# This Python 3 environment comes with many helpful analytics libraries installed\n",
        "# It is defined by the kaggle/python Docker image: https://github.com/kaggle/docker-python\n",
        "# For example, here's several helpful packages to load\n",
        "\n",
        "import numpy as np # linear algebra\n",
        "import pandas as pd # data processing, CSV file I/O (e.g. pd.read_csv)\n",
        "\n",
        "# Input data files are available in the read-only \"../input/\" directory\n",
        "# For example, running this (by clicking run or pressing Shift+Enter) will list all files under the input directory\n",
        "\n",
        "import os\n",
        "for dirname, _, filenames in os.walk('/kaggle/input'):\n",
        "    for filename in filenames:\n",
        "        print(os.path.join(dirname, filename))\n",
        "\n",
        "# You can write up to 20GB to the current directory (/kaggle/working/) that gets preserved as output when you create a version using \"Save & Run All\" \n",
        "# You can also write temporary files to /kaggle/temp/, but they won't be saved outside of the current session"
      ],
      "execution_count": null,
      "outputs": [
        {
          "output_type": "stream",
          "text": [
            "/kaggle/input/titanic/train.csv\n",
            "/kaggle/input/titanic/test.csv\n",
            "/kaggle/input/titanic/gender_submission.csv\n"
          ],
          "name": "stdout"
        }
      ]
    },
    {
      "cell_type": "markdown",
      "metadata": {
        "id": "vV8zWXOXRbtC"
      },
      "source": [
        "Dataset available to download on:  [kaggle: Titanic Competition Data](https://www.kaggle.com/c/titanic/data) 💜"
      ]
    },
    {
      "cell_type": "code",
      "metadata": {
        "execution": {
          "iopub.status.busy": "2021-07-06T18:05:51.536116Z",
          "iopub.execute_input": "2021-07-06T18:05:51.536775Z",
          "iopub.status.idle": "2021-07-06T18:05:51.542666Z",
          "shell.execute_reply.started": "2021-07-06T18:05:51.536721Z",
          "shell.execute_reply": "2021-07-06T18:05:51.541558Z"
        },
        "trusted": true,
        "id": "kazPFNNzRbtC"
      },
      "source": [
        "import matplotlib.pyplot as plt\n",
        "import seaborn as sns"
      ],
      "execution_count": null,
      "outputs": []
    },
    {
      "cell_type": "markdown",
      "metadata": {
        "id": "5T7EB--RRbtD"
      },
      "source": [
        "---"
      ]
    },
    {
      "cell_type": "markdown",
      "metadata": {
        "id": "EJiNYgBSRc7A"
      },
      "source": [
        "###  By: Abdiel Guerrero 💜"
      ]
    },
    {
      "cell_type": "markdown",
      "metadata": {
        "id": "rEY2I3-RRbtD"
      },
      "source": [
        "# Exploring Data 📊"
      ]
    },
    {
      "cell_type": "markdown",
      "metadata": {
        "id": "bqM7_b_QRbtD"
      },
      "source": [
        "We'll start reading our .csv files and put them in DataFrames to manage to work on Pandas."
      ]
    },
    {
      "cell_type": "code",
      "metadata": {
        "execution": {
          "iopub.status.busy": "2021-07-06T18:05:53.102385Z",
          "iopub.execute_input": "2021-07-06T18:05:53.102807Z",
          "iopub.status.idle": "2021-07-06T18:05:53.127146Z",
          "shell.execute_reply.started": "2021-07-06T18:05:53.102774Z",
          "shell.execute_reply": "2021-07-06T18:05:53.125839Z"
        },
        "trusted": true,
        "id": "tfp3zciHRbtE",
        "outputId": "7b7ab4ab-9e63-40e0-c0ad-e5f5b7ce5ee0"
      },
      "source": [
        "train = pd.read_csv('/kaggle/input/titanic/train.csv')\n",
        "test = pd.read_csv('/kaggle/input/titanic/test.csv')\n",
        "print(f'Train size: {len(train)}\\nTest Size: {len(test)}')"
      ],
      "execution_count": null,
      "outputs": [
        {
          "output_type": "stream",
          "text": [
            "Train size: 891\n",
            "Test Size: 418\n"
          ],
          "name": "stdout"
        }
      ]
    },
    {
      "cell_type": "code",
      "metadata": {
        "execution": {
          "iopub.status.busy": "2021-07-06T18:05:53.324187Z",
          "iopub.execute_input": "2021-07-06T18:05:53.324610Z",
          "iopub.status.idle": "2021-07-06T18:05:53.329092Z",
          "shell.execute_reply.started": "2021-07-06T18:05:53.324574Z",
          "shell.execute_reply": "2021-07-06T18:05:53.328266Z"
        },
        "trusted": true,
        "id": "WkDmrfMcRbtE"
      },
      "source": [
        "train_df = pd.DataFrame(train)\n",
        "test_df = pd.DataFrame(test)"
      ],
      "execution_count": null,
      "outputs": []
    },
    {
      "cell_type": "code",
      "metadata": {
        "execution": {
          "iopub.status.busy": "2021-07-06T18:05:53.551559Z",
          "iopub.execute_input": "2021-07-06T18:05:53.552123Z",
          "iopub.status.idle": "2021-07-06T18:05:53.570132Z",
          "shell.execute_reply.started": "2021-07-06T18:05:53.552089Z",
          "shell.execute_reply": "2021-07-06T18:05:53.569493Z"
        },
        "trusted": true,
        "id": "A9E83OYRRbtE",
        "outputId": "7113a36c-4e86-45e5-a484-ac46a53a2171"
      },
      "source": [
        "train_df.head(5)"
      ],
      "execution_count": null,
      "outputs": [
        {
          "output_type": "execute_result",
          "data": {
            "text/plain": [
              "   PassengerId  Survived  Pclass  \\\n",
              "0            1         0       3   \n",
              "1            2         1       1   \n",
              "2            3         1       3   \n",
              "3            4         1       1   \n",
              "4            5         0       3   \n",
              "\n",
              "                                                Name     Sex   Age  SibSp  \\\n",
              "0                            Braund, Mr. Owen Harris    male  22.0      1   \n",
              "1  Cumings, Mrs. John Bradley (Florence Briggs Th...  female  38.0      1   \n",
              "2                             Heikkinen, Miss. Laina  female  26.0      0   \n",
              "3       Futrelle, Mrs. Jacques Heath (Lily May Peel)  female  35.0      1   \n",
              "4                           Allen, Mr. William Henry    male  35.0      0   \n",
              "\n",
              "   Parch            Ticket     Fare Cabin Embarked  \n",
              "0      0         A/5 21171   7.2500   NaN        S  \n",
              "1      0          PC 17599  71.2833   C85        C  \n",
              "2      0  STON/O2. 3101282   7.9250   NaN        S  \n",
              "3      0            113803  53.1000  C123        S  \n",
              "4      0            373450   8.0500   NaN        S  "
            ],
            "text/html": [
              "<div>\n",
              "<style scoped>\n",
              "    .dataframe tbody tr th:only-of-type {\n",
              "        vertical-align: middle;\n",
              "    }\n",
              "\n",
              "    .dataframe tbody tr th {\n",
              "        vertical-align: top;\n",
              "    }\n",
              "\n",
              "    .dataframe thead th {\n",
              "        text-align: right;\n",
              "    }\n",
              "</style>\n",
              "<table border=\"1\" class=\"dataframe\">\n",
              "  <thead>\n",
              "    <tr style=\"text-align: right;\">\n",
              "      <th></th>\n",
              "      <th>PassengerId</th>\n",
              "      <th>Survived</th>\n",
              "      <th>Pclass</th>\n",
              "      <th>Name</th>\n",
              "      <th>Sex</th>\n",
              "      <th>Age</th>\n",
              "      <th>SibSp</th>\n",
              "      <th>Parch</th>\n",
              "      <th>Ticket</th>\n",
              "      <th>Fare</th>\n",
              "      <th>Cabin</th>\n",
              "      <th>Embarked</th>\n",
              "    </tr>\n",
              "  </thead>\n",
              "  <tbody>\n",
              "    <tr>\n",
              "      <th>0</th>\n",
              "      <td>1</td>\n",
              "      <td>0</td>\n",
              "      <td>3</td>\n",
              "      <td>Braund, Mr. Owen Harris</td>\n",
              "      <td>male</td>\n",
              "      <td>22.0</td>\n",
              "      <td>1</td>\n",
              "      <td>0</td>\n",
              "      <td>A/5 21171</td>\n",
              "      <td>7.2500</td>\n",
              "      <td>NaN</td>\n",
              "      <td>S</td>\n",
              "    </tr>\n",
              "    <tr>\n",
              "      <th>1</th>\n",
              "      <td>2</td>\n",
              "      <td>1</td>\n",
              "      <td>1</td>\n",
              "      <td>Cumings, Mrs. John Bradley (Florence Briggs Th...</td>\n",
              "      <td>female</td>\n",
              "      <td>38.0</td>\n",
              "      <td>1</td>\n",
              "      <td>0</td>\n",
              "      <td>PC 17599</td>\n",
              "      <td>71.2833</td>\n",
              "      <td>C85</td>\n",
              "      <td>C</td>\n",
              "    </tr>\n",
              "    <tr>\n",
              "      <th>2</th>\n",
              "      <td>3</td>\n",
              "      <td>1</td>\n",
              "      <td>3</td>\n",
              "      <td>Heikkinen, Miss. Laina</td>\n",
              "      <td>female</td>\n",
              "      <td>26.0</td>\n",
              "      <td>0</td>\n",
              "      <td>0</td>\n",
              "      <td>STON/O2. 3101282</td>\n",
              "      <td>7.9250</td>\n",
              "      <td>NaN</td>\n",
              "      <td>S</td>\n",
              "    </tr>\n",
              "    <tr>\n",
              "      <th>3</th>\n",
              "      <td>4</td>\n",
              "      <td>1</td>\n",
              "      <td>1</td>\n",
              "      <td>Futrelle, Mrs. Jacques Heath (Lily May Peel)</td>\n",
              "      <td>female</td>\n",
              "      <td>35.0</td>\n",
              "      <td>1</td>\n",
              "      <td>0</td>\n",
              "      <td>113803</td>\n",
              "      <td>53.1000</td>\n",
              "      <td>C123</td>\n",
              "      <td>S</td>\n",
              "    </tr>\n",
              "    <tr>\n",
              "      <th>4</th>\n",
              "      <td>5</td>\n",
              "      <td>0</td>\n",
              "      <td>3</td>\n",
              "      <td>Allen, Mr. William Henry</td>\n",
              "      <td>male</td>\n",
              "      <td>35.0</td>\n",
              "      <td>0</td>\n",
              "      <td>0</td>\n",
              "      <td>373450</td>\n",
              "      <td>8.0500</td>\n",
              "      <td>NaN</td>\n",
              "      <td>S</td>\n",
              "    </tr>\n",
              "  </tbody>\n",
              "</table>\n",
              "</div>"
            ]
          },
          "metadata": {
            "tags": []
          },
          "execution_count": 72
        }
      ]
    },
    {
      "cell_type": "code",
      "metadata": {
        "execution": {
          "iopub.status.busy": "2021-07-06T18:05:53.757667Z",
          "iopub.execute_input": "2021-07-06T18:05:53.758260Z",
          "iopub.status.idle": "2021-07-06T18:05:53.775494Z",
          "shell.execute_reply.started": "2021-07-06T18:05:53.758225Z",
          "shell.execute_reply": "2021-07-06T18:05:53.774074Z"
        },
        "trusted": true,
        "id": "Hl5CyvmtRbtF",
        "outputId": "65fabd24-8b67-4a42-bed5-bada52de947f"
      },
      "source": [
        "test_df.head(5)"
      ],
      "execution_count": null,
      "outputs": [
        {
          "output_type": "execute_result",
          "data": {
            "text/plain": [
              "   PassengerId  Pclass                                          Name     Sex  \\\n",
              "0          892       3                              Kelly, Mr. James    male   \n",
              "1          893       3              Wilkes, Mrs. James (Ellen Needs)  female   \n",
              "2          894       2                     Myles, Mr. Thomas Francis    male   \n",
              "3          895       3                              Wirz, Mr. Albert    male   \n",
              "4          896       3  Hirvonen, Mrs. Alexander (Helga E Lindqvist)  female   \n",
              "\n",
              "    Age  SibSp  Parch   Ticket     Fare Cabin Embarked  \n",
              "0  34.5      0      0   330911   7.8292   NaN        Q  \n",
              "1  47.0      1      0   363272   7.0000   NaN        S  \n",
              "2  62.0      0      0   240276   9.6875   NaN        Q  \n",
              "3  27.0      0      0   315154   8.6625   NaN        S  \n",
              "4  22.0      1      1  3101298  12.2875   NaN        S  "
            ],
            "text/html": [
              "<div>\n",
              "<style scoped>\n",
              "    .dataframe tbody tr th:only-of-type {\n",
              "        vertical-align: middle;\n",
              "    }\n",
              "\n",
              "    .dataframe tbody tr th {\n",
              "        vertical-align: top;\n",
              "    }\n",
              "\n",
              "    .dataframe thead th {\n",
              "        text-align: right;\n",
              "    }\n",
              "</style>\n",
              "<table border=\"1\" class=\"dataframe\">\n",
              "  <thead>\n",
              "    <tr style=\"text-align: right;\">\n",
              "      <th></th>\n",
              "      <th>PassengerId</th>\n",
              "      <th>Pclass</th>\n",
              "      <th>Name</th>\n",
              "      <th>Sex</th>\n",
              "      <th>Age</th>\n",
              "      <th>SibSp</th>\n",
              "      <th>Parch</th>\n",
              "      <th>Ticket</th>\n",
              "      <th>Fare</th>\n",
              "      <th>Cabin</th>\n",
              "      <th>Embarked</th>\n",
              "    </tr>\n",
              "  </thead>\n",
              "  <tbody>\n",
              "    <tr>\n",
              "      <th>0</th>\n",
              "      <td>892</td>\n",
              "      <td>3</td>\n",
              "      <td>Kelly, Mr. James</td>\n",
              "      <td>male</td>\n",
              "      <td>34.5</td>\n",
              "      <td>0</td>\n",
              "      <td>0</td>\n",
              "      <td>330911</td>\n",
              "      <td>7.8292</td>\n",
              "      <td>NaN</td>\n",
              "      <td>Q</td>\n",
              "    </tr>\n",
              "    <tr>\n",
              "      <th>1</th>\n",
              "      <td>893</td>\n",
              "      <td>3</td>\n",
              "      <td>Wilkes, Mrs. James (Ellen Needs)</td>\n",
              "      <td>female</td>\n",
              "      <td>47.0</td>\n",
              "      <td>1</td>\n",
              "      <td>0</td>\n",
              "      <td>363272</td>\n",
              "      <td>7.0000</td>\n",
              "      <td>NaN</td>\n",
              "      <td>S</td>\n",
              "    </tr>\n",
              "    <tr>\n",
              "      <th>2</th>\n",
              "      <td>894</td>\n",
              "      <td>2</td>\n",
              "      <td>Myles, Mr. Thomas Francis</td>\n",
              "      <td>male</td>\n",
              "      <td>62.0</td>\n",
              "      <td>0</td>\n",
              "      <td>0</td>\n",
              "      <td>240276</td>\n",
              "      <td>9.6875</td>\n",
              "      <td>NaN</td>\n",
              "      <td>Q</td>\n",
              "    </tr>\n",
              "    <tr>\n",
              "      <th>3</th>\n",
              "      <td>895</td>\n",
              "      <td>3</td>\n",
              "      <td>Wirz, Mr. Albert</td>\n",
              "      <td>male</td>\n",
              "      <td>27.0</td>\n",
              "      <td>0</td>\n",
              "      <td>0</td>\n",
              "      <td>315154</td>\n",
              "      <td>8.6625</td>\n",
              "      <td>NaN</td>\n",
              "      <td>S</td>\n",
              "    </tr>\n",
              "    <tr>\n",
              "      <th>4</th>\n",
              "      <td>896</td>\n",
              "      <td>3</td>\n",
              "      <td>Hirvonen, Mrs. Alexander (Helga E Lindqvist)</td>\n",
              "      <td>female</td>\n",
              "      <td>22.0</td>\n",
              "      <td>1</td>\n",
              "      <td>1</td>\n",
              "      <td>3101298</td>\n",
              "      <td>12.2875</td>\n",
              "      <td>NaN</td>\n",
              "      <td>S</td>\n",
              "    </tr>\n",
              "  </tbody>\n",
              "</table>\n",
              "</div>"
            ]
          },
          "metadata": {
            "tags": []
          },
          "execution_count": 73
        }
      ]
    },
    {
      "cell_type": "markdown",
      "metadata": {
        "id": "tni6HawiRbtF"
      },
      "source": [
        "Now, let's to check our data's keys (columns) and what the differences between `train_df` and `test_df` are (variable(s) to predict)."
      ]
    },
    {
      "cell_type": "code",
      "metadata": {
        "execution": {
          "iopub.status.busy": "2021-07-06T18:52:55.994780Z",
          "iopub.execute_input": "2021-07-06T18:52:55.995267Z",
          "iopub.status.idle": "2021-07-06T18:52:56.000168Z",
          "shell.execute_reply.started": "2021-07-06T18:52:55.995234Z",
          "shell.execute_reply": "2021-07-06T18:52:55.999442Z"
        },
        "trusted": true,
        "id": "mKvA5DmpRbtG"
      },
      "source": [
        "keys_train = sorted(train.keys())\n",
        "keys_test = sorted(test.keys())"
      ],
      "execution_count": null,
      "outputs": []
    },
    {
      "cell_type": "code",
      "metadata": {
        "execution": {
          "iopub.status.busy": "2021-07-06T18:52:52.343519Z",
          "iopub.execute_input": "2021-07-06T18:52:52.344194Z",
          "iopub.status.idle": "2021-07-06T18:52:52.352991Z",
          "shell.execute_reply.started": "2021-07-06T18:52:52.344137Z",
          "shell.execute_reply": "2021-07-06T18:52:52.351751Z"
        },
        "trusted": true,
        "id": "nq_e75osRbtG",
        "outputId": "811776a4-9f68-4731-a03a-0c723d965152"
      },
      "source": [
        "uncommon_key = []\n",
        "for key in keys_train:\n",
        "    if not key in keys_test:\n",
        "        uncommon_key.append(key)\n",
        "print(uncommon_key)"
      ],
      "execution_count": null,
      "outputs": [
        {
          "output_type": "stream",
          "text": [
            "['Survived']\n"
          ],
          "name": "stdout"
        }
      ]
    },
    {
      "cell_type": "markdown",
      "metadata": {
        "id": "2Nj5www6RbtG"
      },
      "source": [
        "For the beginning, we'll check our numerical data:"
      ]
    },
    {
      "cell_type": "code",
      "metadata": {
        "execution": {
          "iopub.status.busy": "2021-07-06T18:05:54.544713Z",
          "iopub.execute_input": "2021-07-06T18:05:54.545131Z",
          "iopub.status.idle": "2021-07-06T18:05:54.584279Z",
          "shell.execute_reply.started": "2021-07-06T18:05:54.545093Z",
          "shell.execute_reply": "2021-07-06T18:05:54.582836Z"
        },
        "trusted": true,
        "id": "z9HDLHoZRbtH",
        "outputId": "7ac9b1e3-3b10-49b4-fad6-9005badf5f24"
      },
      "source": [
        "train_df.describe()"
      ],
      "execution_count": null,
      "outputs": [
        {
          "output_type": "execute_result",
          "data": {
            "text/plain": [
              "       PassengerId    Survived      Pclass         Age       SibSp  \\\n",
              "count   891.000000  891.000000  891.000000  714.000000  891.000000   \n",
              "mean    446.000000    0.383838    2.308642   29.699118    0.523008   \n",
              "std     257.353842    0.486592    0.836071   14.526497    1.102743   \n",
              "min       1.000000    0.000000    1.000000    0.420000    0.000000   \n",
              "25%     223.500000    0.000000    2.000000   20.125000    0.000000   \n",
              "50%     446.000000    0.000000    3.000000   28.000000    0.000000   \n",
              "75%     668.500000    1.000000    3.000000   38.000000    1.000000   \n",
              "max     891.000000    1.000000    3.000000   80.000000    8.000000   \n",
              "\n",
              "            Parch        Fare  \n",
              "count  891.000000  891.000000  \n",
              "mean     0.381594   32.204208  \n",
              "std      0.806057   49.693429  \n",
              "min      0.000000    0.000000  \n",
              "25%      0.000000    7.910400  \n",
              "50%      0.000000   14.454200  \n",
              "75%      0.000000   31.000000  \n",
              "max      6.000000  512.329200  "
            ],
            "text/html": [
              "<div>\n",
              "<style scoped>\n",
              "    .dataframe tbody tr th:only-of-type {\n",
              "        vertical-align: middle;\n",
              "    }\n",
              "\n",
              "    .dataframe tbody tr th {\n",
              "        vertical-align: top;\n",
              "    }\n",
              "\n",
              "    .dataframe thead th {\n",
              "        text-align: right;\n",
              "    }\n",
              "</style>\n",
              "<table border=\"1\" class=\"dataframe\">\n",
              "  <thead>\n",
              "    <tr style=\"text-align: right;\">\n",
              "      <th></th>\n",
              "      <th>PassengerId</th>\n",
              "      <th>Survived</th>\n",
              "      <th>Pclass</th>\n",
              "      <th>Age</th>\n",
              "      <th>SibSp</th>\n",
              "      <th>Parch</th>\n",
              "      <th>Fare</th>\n",
              "    </tr>\n",
              "  </thead>\n",
              "  <tbody>\n",
              "    <tr>\n",
              "      <th>count</th>\n",
              "      <td>891.000000</td>\n",
              "      <td>891.000000</td>\n",
              "      <td>891.000000</td>\n",
              "      <td>714.000000</td>\n",
              "      <td>891.000000</td>\n",
              "      <td>891.000000</td>\n",
              "      <td>891.000000</td>\n",
              "    </tr>\n",
              "    <tr>\n",
              "      <th>mean</th>\n",
              "      <td>446.000000</td>\n",
              "      <td>0.383838</td>\n",
              "      <td>2.308642</td>\n",
              "      <td>29.699118</td>\n",
              "      <td>0.523008</td>\n",
              "      <td>0.381594</td>\n",
              "      <td>32.204208</td>\n",
              "    </tr>\n",
              "    <tr>\n",
              "      <th>std</th>\n",
              "      <td>257.353842</td>\n",
              "      <td>0.486592</td>\n",
              "      <td>0.836071</td>\n",
              "      <td>14.526497</td>\n",
              "      <td>1.102743</td>\n",
              "      <td>0.806057</td>\n",
              "      <td>49.693429</td>\n",
              "    </tr>\n",
              "    <tr>\n",
              "      <th>min</th>\n",
              "      <td>1.000000</td>\n",
              "      <td>0.000000</td>\n",
              "      <td>1.000000</td>\n",
              "      <td>0.420000</td>\n",
              "      <td>0.000000</td>\n",
              "      <td>0.000000</td>\n",
              "      <td>0.000000</td>\n",
              "    </tr>\n",
              "    <tr>\n",
              "      <th>25%</th>\n",
              "      <td>223.500000</td>\n",
              "      <td>0.000000</td>\n",
              "      <td>2.000000</td>\n",
              "      <td>20.125000</td>\n",
              "      <td>0.000000</td>\n",
              "      <td>0.000000</td>\n",
              "      <td>7.910400</td>\n",
              "    </tr>\n",
              "    <tr>\n",
              "      <th>50%</th>\n",
              "      <td>446.000000</td>\n",
              "      <td>0.000000</td>\n",
              "      <td>3.000000</td>\n",
              "      <td>28.000000</td>\n",
              "      <td>0.000000</td>\n",
              "      <td>0.000000</td>\n",
              "      <td>14.454200</td>\n",
              "    </tr>\n",
              "    <tr>\n",
              "      <th>75%</th>\n",
              "      <td>668.500000</td>\n",
              "      <td>1.000000</td>\n",
              "      <td>3.000000</td>\n",
              "      <td>38.000000</td>\n",
              "      <td>1.000000</td>\n",
              "      <td>0.000000</td>\n",
              "      <td>31.000000</td>\n",
              "    </tr>\n",
              "    <tr>\n",
              "      <th>max</th>\n",
              "      <td>891.000000</td>\n",
              "      <td>1.000000</td>\n",
              "      <td>3.000000</td>\n",
              "      <td>80.000000</td>\n",
              "      <td>8.000000</td>\n",
              "      <td>6.000000</td>\n",
              "      <td>512.329200</td>\n",
              "    </tr>\n",
              "  </tbody>\n",
              "</table>\n",
              "</div>"
            ]
          },
          "metadata": {
            "tags": []
          },
          "execution_count": 75
        }
      ]
    },
    {
      "cell_type": "markdown",
      "metadata": {
        "id": "xbeSe92ARbtH"
      },
      "source": [
        "We can see in the `count` row that there are some missing values in our `Age` column. In fact, there are 177 missing values (891 - 714); it will be important later and we'll need to do something similar with categorical variables."
      ]
    },
    {
      "cell_type": "markdown",
      "metadata": {
        "id": "E9dZJyYORbtH"
      },
      "source": [
        "Now, let's try to visualize our `Survived` data grouped by gender and age:"
      ]
    },
    {
      "cell_type": "code",
      "metadata": {
        "execution": {
          "iopub.status.busy": "2021-07-06T18:52:09.215061Z",
          "iopub.execute_input": "2021-07-06T18:52:09.215632Z",
          "iopub.status.idle": "2021-07-06T18:52:09.222276Z",
          "shell.execute_reply.started": "2021-07-06T18:52:09.215596Z",
          "shell.execute_reply": "2021-07-06T18:52:09.221112Z"
        },
        "trusted": true,
        "id": "7SFErvr9RbtH"
      },
      "source": [
        "# Define a function which create and plot a new DF based on 'Survived' values.\n",
        "def plot_by_surv_died(data, based_on, stacked=True, colors_= ['purple','black']):\n",
        "    \n",
        "    # Obtain survivors and died counts\n",
        "    survive = data[data['Survived']==1][based_on].value_counts()\n",
        "    dead = data[data['Survived']==0][based_on].value_counts()\n",
        "    \n",
        "    # Place these values on a new DF\n",
        "    surv_dea_df = pd.DataFrame([survive, dead])\n",
        "    surv_dea_df.index = ['Survived','Died']\n",
        "    surv_dea_df.plot(kind='bar', stacked=stacked, color=colors_)"
      ],
      "execution_count": null,
      "outputs": []
    },
    {
      "cell_type": "code",
      "metadata": {
        "execution": {
          "iopub.status.busy": "2021-07-06T18:52:09.571274Z",
          "iopub.execute_input": "2021-07-06T18:52:09.571867Z",
          "iopub.status.idle": "2021-07-06T18:52:09.725356Z",
          "shell.execute_reply.started": "2021-07-06T18:52:09.571817Z",
          "shell.execute_reply": "2021-07-06T18:52:09.724591Z"
        },
        "trusted": true,
        "id": "KzDAd2dsRbtI",
        "outputId": "0cc3fbae-b495-4577-ebc4-819c97d5bf00"
      },
      "source": [
        "plot_by_surv_died(train_df, 'Sex')"
      ],
      "execution_count": null,
      "outputs": [
        {
          "output_type": "display_data",
          "data": {
            "text/plain": [
              "<Figure size 432x288 with 1 Axes>"
            ],
            "image/png": "[encoded data removed]"
          },
          "metadata": {
            "tags": [],
            "needs_background": "light"
          }
        }
      ]
    },
    {
      "cell_type": "code",
      "metadata": {
        "execution": {
          "iopub.status.busy": "2021-07-06T18:05:55.519559Z",
          "iopub.execute_input": "2021-07-06T18:05:55.519956Z",
          "iopub.status.idle": "2021-07-06T18:05:55.725981Z",
          "shell.execute_reply.started": "2021-07-06T18:05:55.519922Z",
          "shell.execute_reply": "2021-07-06T18:05:55.724740Z"
        },
        "trusted": true,
        "id": "7HLS_zM8RbtI",
        "outputId": "ef397b11-5ebf-4e87-d11d-790b2ee85ae8"
      },
      "source": [
        "sns.violinplot(x='Sex', y='Age', hue='Survived', data=train_df, split=True, palette='Set1')"
      ],
      "execution_count": null,
      "outputs": [
        {
          "output_type": "execute_result",
          "data": {
            "text/plain": [
              "<AxesSubplot:xlabel='Sex', ylabel='Age'>"
            ]
          },
          "metadata": {
            "tags": []
          },
          "execution_count": 78
        },
        {
          "output_type": "display_data",
          "data": {
            "text/plain": [
              "<Figure size 432x288 with 1 Axes>"
            ],
            "image/png": "[encoded data removed]"
          },
          "metadata": {
            "tags": [],
            "needs_background": "light"
          }
        }
      ]
    },
    {
      "cell_type": "markdown",
      "metadata": {
        "id": "ywiixNGHRbtJ"
      },
      "source": [
        "It's interesting to see how in men case the difference of surviving probabilities had reduced in base on how old they were, more specifically, men between 20's 35's tended to survive more than older men (40's - 80's). By the other hand, in the women case they survived compararively well on all the age groups."
      ]
    },
    {
      "cell_type": "markdown",
      "metadata": {
        "id": "AsbTPu0ORbtJ"
      },
      "source": [
        "Now, why not try to visualice if there ir an corelation between ticket `fare` and probabilities to survive? In this case we could imagine these probabilities are based on their position on the ship or their priority to be rescued."
      ]
    },
    {
      "cell_type": "code",
      "metadata": {
        "execution": {
          "iopub.status.busy": "2021-07-06T18:48:11.041818Z",
          "iopub.execute_input": "2021-07-06T18:48:11.042231Z",
          "iopub.status.idle": "2021-07-06T18:48:11.530887Z",
          "shell.execute_reply.started": "2021-07-06T18:48:11.042198Z",
          "shell.execute_reply": "2021-07-06T18:48:11.529595Z"
        },
        "trusted": true,
        "id": "JQVBkMeARbtJ",
        "outputId": "5935dd7a-3ca9-4a56-bb9d-120c17267642"
      },
      "source": [
        "figure = plt.figure(figsize=(15,15))\n",
        "plt.hist([train_df[train_df['Survived']==0]['Fare'],\n",
        "          train_df[train_df['Survived']==1]['Fare']],\n",
        "         stacked=True,\n",
        "         color = ['Red','Green'],\n",
        "         bins = 50,\n",
        "         label = ['Dad', 'Survived']\n",
        "        )\n",
        "plt.xlabel('Fare')\n",
        "plt.grid()\n",
        "plt.ylabel('# of Passengers')\n",
        "plt.legend()"
      ],
      "execution_count": null,
      "outputs": [
        {
          "output_type": "execute_result",
          "data": {
            "text/plain": [
              "<matplotlib.legend.Legend at 0x7f5193671d50>"
            ]
          },
          "metadata": {
            "tags": []
          },
          "execution_count": 89
        },
        {
          "output_type": "display_data",
          "data": {
            "text/plain": [
              "<Figure size 1080x1080 with 1 Axes>"
            ],
            "image/png": "[encoded data removed]"
          },
          "metadata": {
            "tags": [],
            "needs_background": "light"
          }
        }
      ]
    },
    {
      "cell_type": "code",
      "metadata": {
        "execution": {
          "iopub.status.busy": "2021-07-06T19:08:44.425929Z",
          "iopub.execute_input": "2021-07-06T19:08:44.426374Z",
          "iopub.status.idle": "2021-07-06T19:08:44.635906Z",
          "shell.execute_reply.started": "2021-07-06T19:08:44.426327Z",
          "shell.execute_reply": "2021-07-06T19:08:44.634628Z"
        },
        "trusted": true,
        "id": "PZAHK3BQRbtJ",
        "outputId": "37aeefee-2a7c-48c0-bc54-8ac4f55cc593"
      },
      "source": [
        "plot_by_surv_died(train_df, 'Pclass', colors_=['#FFD700','#C0C0C0','#8C7853'])\n",
        "plt.legend(['1st class','2nd class','3rd class'])"
      ],
      "execution_count": null,
      "outputs": [
        {
          "output_type": "execute_result",
          "data": {
            "text/plain": [
              "<matplotlib.legend.Legend at 0x7f5193a8fa50>"
            ]
          },
          "metadata": {
            "tags": []
          },
          "execution_count": 137
        },
        {
          "output_type": "display_data",
          "data": {
            "text/plain": [
              "<Figure size 432x288 with 1 Axes>"
            ],
            "image/png": "[encoded data removed]"
          },
          "metadata": {
            "tags": [],
            "needs_background": "light"
          }
        }
      ]
    },
    {
      "cell_type": "markdown",
      "metadata": {
        "id": "K4oHmXTZRbtK"
      },
      "source": [
        "Despite of there was a very little part of expensive tickets passengers, the most part of them survived. By the other hand, more than half people who bought the cheapest tickets died.\n",
        "\n",
        "Was there a kind of priority of rescue based on their social status, or it's more kind of a statistical mean based on the quantity of passengers in each fare kind?"
      ]
    },
    {
      "cell_type": "code",
      "metadata": {
        "id": "_IUr-RKjRbtK"
      },
      "source": [
        ""
      ],
      "execution_count": null,
      "outputs": []
    }
  ]
}