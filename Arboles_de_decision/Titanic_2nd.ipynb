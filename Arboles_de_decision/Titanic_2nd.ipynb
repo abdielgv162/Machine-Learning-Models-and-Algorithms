{
  "nbformat": 4,
  "nbformat_minor": 0,
  "metadata": {
    "kernelspec": {
      "language": "python",
      "display_name": "Python 3",
      "name": "python3"
    },
    "language_info": {
      "name": "python",
      "version": "3.7.10",
      "mimetype": "text/x-python",
      "codemirror_mode": {
        "name": "ipython",
        "version": 3
      },
      "pygments_lexer": "ipython3",
      "nbconvert_exporter": "python",
      "file_extension": ".py"
    },
    "colab": {
      "name": "titanic-2nd.ipynb",
      "provenance": [],
      "collapsed_sections": []
    }
  },
  "cells": [
    {
      "cell_type": "code",
      "metadata": {
        "_uuid": "8f2839f25d086af736a60e9eeb907d3b93b6e0e5",
        "_cell_guid": "b1076dfc-b9ad-4769-8c92-a6c4dae69d19",
        "execution": {
          "iopub.status.busy": "2021-07-06T20:41:36.748474Z",
          "iopub.execute_input": "2021-07-06T20:41:36.749014Z",
          "iopub.status.idle": "2021-07-06T20:41:36.765685Z",
          "shell.execute_reply.started": "2021-07-06T20:41:36.748901Z",
          "shell.execute_reply": "2021-07-06T20:41:36.764503Z"
        },
        "trusted": true,
        "id": "dPJHPeUL9Tun",
        "outputId": "0b711791-7290-40c6-93b8-7270e156e066"
      },
      "source": [
        "# This Python 3 environment comes with many helpful analytics libraries installed\n",
        "# It is defined by the kaggle/python Docker image: https://github.com/kaggle/docker-python\n",
        "# For example, here's several helpful packages to load\n",
        "\n",
        "import numpy as np # linear algebra\n",
        "import pandas as pd # data processing, CSV file I/O (e.g. pd.read_csv)\n",
        "\n",
        "# Input data files are available in the read-only \"../input/\" directory\n",
        "# For example, running this (by clicking run or pressing Shift+Enter) will list all files under the input directory\n",
        "\n",
        "import os\n",
        "for dirname, _, filenames in os.walk('/kaggle/input'):\n",
        "    for filename in filenames:\n",
        "        print(os.path.join(dirname, filename))\n",
        "\n",
        "# You can write up to 20GB to the current directory (/kaggle/working/) that gets preserved as output when you create a version using \"Save & Run All\" \n",
        "# You can also write temporary files to /kaggle/temp/, but they won't be saved outside of the current session"
      ],
      "execution_count": null,
      "outputs": [
        {
          "output_type": "stream",
          "text": [
            "/kaggle/input/titanic/train.csv\n",
            "/kaggle/input/titanic/test.csv\n",
            "/kaggle/input/titanic/gender_submission.csv\n"
          ],
          "name": "stdout"
        }
      ]
    },
    {
      "cell_type": "markdown",
      "metadata": {
        "id": "yotkNZUu9Tuo"
      },
      "source": [
        "Dataset available to download on:  [kaggle: Titanic Competition Data](https://www.kaggle.com/c/titanic/data) 💜"
      ]
    },
    {
      "cell_type": "code",
      "metadata": {
        "execution": {
          "iopub.status.busy": "2021-07-06T21:51:10.581206Z",
          "iopub.execute_input": "2021-07-06T21:51:10.581822Z",
          "iopub.status.idle": "2021-07-06T21:51:10.590040Z",
          "shell.execute_reply.started": "2021-07-06T21:51:10.581767Z",
          "shell.execute_reply": "2021-07-06T21:51:10.589073Z"
        },
        "trusted": true,
        "id": "dkzyW5bU9Tup"
      },
      "source": [
        "import matplotlib.pyplot as plt\n",
        "import seaborn as sns\n",
        "from sklearn import preprocessing"
      ],
      "execution_count": null,
      "outputs": []
    },
    {
      "cell_type": "markdown",
      "metadata": {
        "id": "-0zWNBLs9Tuq"
      },
      "source": [
        "---"
      ]
    },
    {
      "cell_type": "markdown",
      "metadata": {
        "id": "MR_u497n9Tuq"
      },
      "source": [
        "### By: Abdiel Guerrero 💜"
      ]
    },
    {
      "cell_type": "markdown",
      "metadata": {
        "id": "P0PXlD0m9Tuq"
      },
      "source": [
        "# Exploratory Data Analysis 🔎"
      ]
    },
    {
      "cell_type": "markdown",
      "metadata": {
        "id": "kYAVfAaj9Tur"
      },
      "source": [
        "## Exploring and plotting 📊"
      ]
    },
    {
      "cell_type": "markdown",
      "metadata": {
        "id": "3psx5xVk9Tur"
      },
      "source": [
        ""
      ]
    },
    {
      "cell_type": "markdown",
      "metadata": {
        "id": "ngunCkuI9Tur"
      },
      "source": [
        "We'll start reading our .csv files and put them in DataFrames to manage to work on Pandas."
      ]
    },
    {
      "cell_type": "code",
      "metadata": {
        "execution": {
          "iopub.status.busy": "2021-07-06T20:41:38.190167Z",
          "iopub.execute_input": "2021-07-06T20:41:38.190788Z",
          "iopub.status.idle": "2021-07-06T20:41:38.213336Z",
          "shell.execute_reply.started": "2021-07-06T20:41:38.190750Z",
          "shell.execute_reply": "2021-07-06T20:41:38.212515Z"
        },
        "trusted": true,
        "id": "xZp_qmdl9Tus",
        "outputId": "d5f6a2f8-117d-4b06-f443-548b9d0d10ed"
      },
      "source": [
        "train = pd.read_csv('/kaggle/input/titanic/train.csv')\n",
        "test = pd.read_csv('/kaggle/input/titanic/test.csv')\n",
        "print(f'Train size: {len(train)}\\nTest Size: {len(test)}')"
      ],
      "execution_count": null,
      "outputs": [
        {
          "output_type": "stream",
          "text": [
            "Train size: 891\n",
            "Test Size: 418\n"
          ],
          "name": "stdout"
        }
      ]
    },
    {
      "cell_type": "code",
      "metadata": {
        "execution": {
          "iopub.status.busy": "2021-07-06T20:41:38.366625Z",
          "iopub.execute_input": "2021-07-06T20:41:38.367217Z",
          "iopub.status.idle": "2021-07-06T20:41:38.371201Z",
          "shell.execute_reply.started": "2021-07-06T20:41:38.367180Z",
          "shell.execute_reply": "2021-07-06T20:41:38.370466Z"
        },
        "trusted": true,
        "id": "YSMjXTE79Tus"
      },
      "source": [
        "train_df = pd.DataFrame(train)\n",
        "test_df = pd.DataFrame(test)"
      ],
      "execution_count": null,
      "outputs": []
    },
    {
      "cell_type": "code",
      "metadata": {
        "execution": {
          "iopub.status.busy": "2021-07-06T22:26:44.491311Z",
          "iopub.execute_input": "2021-07-06T22:26:44.491705Z",
          "iopub.status.idle": "2021-07-06T22:26:44.514755Z",
          "shell.execute_reply.started": "2021-07-06T22:26:44.491674Z",
          "shell.execute_reply": "2021-07-06T22:26:44.513402Z"
        },
        "trusted": true,
        "id": "0UX2HspB9Tus",
        "outputId": "d1e54075-9c4e-4f0d-8a7d-0f9961a3b1f6"
      },
      "source": [
        "train_df.head(10)"
      ],
      "execution_count": null,
      "outputs": [
        {
          "output_type": "execute_result",
          "data": {
            "text/plain": [
              "   PassengerId  Survived  Pclass  \\\n",
              "0            1         0       3   \n",
              "1            2         1       1   \n",
              "2            3         1       3   \n",
              "3            4         1       1   \n",
              "4            5         0       3   \n",
              "5            6         0       3   \n",
              "6            7         0       1   \n",
              "7            8         0       3   \n",
              "8            9         1       3   \n",
              "9           10         1       2   \n",
              "\n",
              "                                                Name  Sex   Age  SibSp  Parch  \\\n",
              "0                            Braund, Mr. Owen Harris    1  22.0      1      0   \n",
              "1  Cumings, Mrs. John Bradley (Florence Briggs Th...    0  38.0      1      0   \n",
              "2                             Heikkinen, Miss. Laina    0  26.0      0      0   \n",
              "3       Futrelle, Mrs. Jacques Heath (Lily May Peel)    0  35.0      1      0   \n",
              "4                           Allen, Mr. William Henry    1  35.0      0      0   \n",
              "5                                   Moran, Mr. James    1  28.0      0      0   \n",
              "6                            McCarthy, Mr. Timothy J    1  54.0      0      0   \n",
              "7                     Palsson, Master. Gosta Leonard    1   2.0      3      1   \n",
              "8  Johnson, Mrs. Oscar W (Elisabeth Vilhelmina Berg)    0  27.0      0      2   \n",
              "9                Nasser, Mrs. Nicholas (Adele Achem)    0  14.0      1      0   \n",
              "\n",
              "             Ticket     Fare Cabin Embarked  \n",
              "0         A/5 21171   7.2500   NaN        S  \n",
              "1          PC 17599  71.2833   C85        C  \n",
              "2  STON/O2. 3101282   7.9250   NaN        S  \n",
              "3            113803  53.1000  C123        S  \n",
              "4            373450   8.0500   NaN        S  \n",
              "5            330877   8.4583   NaN        Q  \n",
              "6             17463  51.8625   E46        S  \n",
              "7            349909  21.0750   NaN        S  \n",
              "8            347742  11.1333   NaN        S  \n",
              "9            237736  30.0708   NaN        C  "
            ],
            "text/html": [
              "<div>\n",
              "<style scoped>\n",
              "    .dataframe tbody tr th:only-of-type {\n",
              "        vertical-align: middle;\n",
              "    }\n",
              "\n",
              "    .dataframe tbody tr th {\n",
              "        vertical-align: top;\n",
              "    }\n",
              "\n",
              "    .dataframe thead th {\n",
              "        text-align: right;\n",
              "    }\n",
              "</style>\n",
              "<table border=\"1\" class=\"dataframe\">\n",
              "  <thead>\n",
              "    <tr style=\"text-align: right;\">\n",
              "      <th></th>\n",
              "      <th>PassengerId</th>\n",
              "      <th>Survived</th>\n",
              "      <th>Pclass</th>\n",
              "      <th>Name</th>\n",
              "      <th>Sex</th>\n",
              "      <th>Age</th>\n",
              "      <th>SibSp</th>\n",
              "      <th>Parch</th>\n",
              "      <th>Ticket</th>\n",
              "      <th>Fare</th>\n",
              "      <th>Cabin</th>\n",
              "      <th>Embarked</th>\n",
              "    </tr>\n",
              "  </thead>\n",
              "  <tbody>\n",
              "    <tr>\n",
              "      <th>0</th>\n",
              "      <td>1</td>\n",
              "      <td>0</td>\n",
              "      <td>3</td>\n",
              "      <td>Braund, Mr. Owen Harris</td>\n",
              "      <td>1</td>\n",
              "      <td>22.0</td>\n",
              "      <td>1</td>\n",
              "      <td>0</td>\n",
              "      <td>A/5 21171</td>\n",
              "      <td>7.2500</td>\n",
              "      <td>NaN</td>\n",
              "      <td>S</td>\n",
              "    </tr>\n",
              "    <tr>\n",
              "      <th>1</th>\n",
              "      <td>2</td>\n",
              "      <td>1</td>\n",
              "      <td>1</td>\n",
              "      <td>Cumings, Mrs. John Bradley (Florence Briggs Th...</td>\n",
              "      <td>0</td>\n",
              "      <td>38.0</td>\n",
              "      <td>1</td>\n",
              "      <td>0</td>\n",
              "      <td>PC 17599</td>\n",
              "      <td>71.2833</td>\n",
              "      <td>C85</td>\n",
              "      <td>C</td>\n",
              "    </tr>\n",
              "    <tr>\n",
              "      <th>2</th>\n",
              "      <td>3</td>\n",
              "      <td>1</td>\n",
              "      <td>3</td>\n",
              "      <td>Heikkinen, Miss. Laina</td>\n",
              "      <td>0</td>\n",
              "      <td>26.0</td>\n",
              "      <td>0</td>\n",
              "      <td>0</td>\n",
              "      <td>STON/O2. 3101282</td>\n",
              "      <td>7.9250</td>\n",
              "      <td>NaN</td>\n",
              "      <td>S</td>\n",
              "    </tr>\n",
              "    <tr>\n",
              "      <th>3</th>\n",
              "      <td>4</td>\n",
              "      <td>1</td>\n",
              "      <td>1</td>\n",
              "      <td>Futrelle, Mrs. Jacques Heath (Lily May Peel)</td>\n",
              "      <td>0</td>\n",
              "      <td>35.0</td>\n",
              "      <td>1</td>\n",
              "      <td>0</td>\n",
              "      <td>113803</td>\n",
              "      <td>53.1000</td>\n",
              "      <td>C123</td>\n",
              "      <td>S</td>\n",
              "    </tr>\n",
              "    <tr>\n",
              "      <th>4</th>\n",
              "      <td>5</td>\n",
              "      <td>0</td>\n",
              "      <td>3</td>\n",
              "      <td>Allen, Mr. William Henry</td>\n",
              "      <td>1</td>\n",
              "      <td>35.0</td>\n",
              "      <td>0</td>\n",
              "      <td>0</td>\n",
              "      <td>373450</td>\n",
              "      <td>8.0500</td>\n",
              "      <td>NaN</td>\n",
              "      <td>S</td>\n",
              "    </tr>\n",
              "    <tr>\n",
              "      <th>5</th>\n",
              "      <td>6</td>\n",
              "      <td>0</td>\n",
              "      <td>3</td>\n",
              "      <td>Moran, Mr. James</td>\n",
              "      <td>1</td>\n",
              "      <td>28.0</td>\n",
              "      <td>0</td>\n",
              "      <td>0</td>\n",
              "      <td>330877</td>\n",
              "      <td>8.4583</td>\n",
              "      <td>NaN</td>\n",
              "      <td>Q</td>\n",
              "    </tr>\n",
              "    <tr>\n",
              "      <th>6</th>\n",
              "      <td>7</td>\n",
              "      <td>0</td>\n",
              "      <td>1</td>\n",
              "      <td>McCarthy, Mr. Timothy J</td>\n",
              "      <td>1</td>\n",
              "      <td>54.0</td>\n",
              "      <td>0</td>\n",
              "      <td>0</td>\n",
              "      <td>17463</td>\n",
              "      <td>51.8625</td>\n",
              "      <td>E46</td>\n",
              "      <td>S</td>\n",
              "    </tr>\n",
              "    <tr>\n",
              "      <th>7</th>\n",
              "      <td>8</td>\n",
              "      <td>0</td>\n",
              "      <td>3</td>\n",
              "      <td>Palsson, Master. Gosta Leonard</td>\n",
              "      <td>1</td>\n",
              "      <td>2.0</td>\n",
              "      <td>3</td>\n",
              "      <td>1</td>\n",
              "      <td>349909</td>\n",
              "      <td>21.0750</td>\n",
              "      <td>NaN</td>\n",
              "      <td>S</td>\n",
              "    </tr>\n",
              "    <tr>\n",
              "      <th>8</th>\n",
              "      <td>9</td>\n",
              "      <td>1</td>\n",
              "      <td>3</td>\n",
              "      <td>Johnson, Mrs. Oscar W (Elisabeth Vilhelmina Berg)</td>\n",
              "      <td>0</td>\n",
              "      <td>27.0</td>\n",
              "      <td>0</td>\n",
              "      <td>2</td>\n",
              "      <td>347742</td>\n",
              "      <td>11.1333</td>\n",
              "      <td>NaN</td>\n",
              "      <td>S</td>\n",
              "    </tr>\n",
              "    <tr>\n",
              "      <th>9</th>\n",
              "      <td>10</td>\n",
              "      <td>1</td>\n",
              "      <td>2</td>\n",
              "      <td>Nasser, Mrs. Nicholas (Adele Achem)</td>\n",
              "      <td>0</td>\n",
              "      <td>14.0</td>\n",
              "      <td>1</td>\n",
              "      <td>0</td>\n",
              "      <td>237736</td>\n",
              "      <td>30.0708</td>\n",
              "      <td>NaN</td>\n",
              "      <td>C</td>\n",
              "    </tr>\n",
              "  </tbody>\n",
              "</table>\n",
              "</div>"
            ]
          },
          "metadata": {
            "tags": []
          },
          "execution_count": 78
        }
      ]
    },
    {
      "cell_type": "code",
      "metadata": {
        "execution": {
          "iopub.status.busy": "2021-07-06T20:41:38.701867Z",
          "iopub.execute_input": "2021-07-06T20:41:38.702291Z",
          "iopub.status.idle": "2021-07-06T20:41:38.722973Z",
          "shell.execute_reply.started": "2021-07-06T20:41:38.702255Z",
          "shell.execute_reply": "2021-07-06T20:41:38.721729Z"
        },
        "trusted": true,
        "id": "Pie2loYu9Tut",
        "outputId": "1459ba81-c1d9-4e4a-b7e6-e2b390f70e37"
      },
      "source": [
        "test_df.head(5)"
      ],
      "execution_count": null,
      "outputs": [
        {
          "output_type": "execute_result",
          "data": {
            "text/plain": [
              "   PassengerId  Pclass                                          Name     Sex  \\\n",
              "0          892       3                              Kelly, Mr. James    male   \n",
              "1          893       3              Wilkes, Mrs. James (Ellen Needs)  female   \n",
              "2          894       2                     Myles, Mr. Thomas Francis    male   \n",
              "3          895       3                              Wirz, Mr. Albert    male   \n",
              "4          896       3  Hirvonen, Mrs. Alexander (Helga E Lindqvist)  female   \n",
              "\n",
              "    Age  SibSp  Parch   Ticket     Fare Cabin Embarked  \n",
              "0  34.5      0      0   330911   7.8292   NaN        Q  \n",
              "1  47.0      1      0   363272   7.0000   NaN        S  \n",
              "2  62.0      0      0   240276   9.6875   NaN        Q  \n",
              "3  27.0      0      0   315154   8.6625   NaN        S  \n",
              "4  22.0      1      1  3101298  12.2875   NaN        S  "
            ],
            "text/html": [
              "<div>\n",
              "<style scoped>\n",
              "    .dataframe tbody tr th:only-of-type {\n",
              "        vertical-align: middle;\n",
              "    }\n",
              "\n",
              "    .dataframe tbody tr th {\n",
              "        vertical-align: top;\n",
              "    }\n",
              "\n",
              "    .dataframe thead th {\n",
              "        text-align: right;\n",
              "    }\n",
              "</style>\n",
              "<table border=\"1\" class=\"dataframe\">\n",
              "  <thead>\n",
              "    <tr style=\"text-align: right;\">\n",
              "      <th></th>\n",
              "      <th>PassengerId</th>\n",
              "      <th>Pclass</th>\n",
              "      <th>Name</th>\n",
              "      <th>Sex</th>\n",
              "      <th>Age</th>\n",
              "      <th>SibSp</th>\n",
              "      <th>Parch</th>\n",
              "      <th>Ticket</th>\n",
              "      <th>Fare</th>\n",
              "      <th>Cabin</th>\n",
              "      <th>Embarked</th>\n",
              "    </tr>\n",
              "  </thead>\n",
              "  <tbody>\n",
              "    <tr>\n",
              "      <th>0</th>\n",
              "      <td>892</td>\n",
              "      <td>3</td>\n",
              "      <td>Kelly, Mr. James</td>\n",
              "      <td>male</td>\n",
              "      <td>34.5</td>\n",
              "      <td>0</td>\n",
              "      <td>0</td>\n",
              "      <td>330911</td>\n",
              "      <td>7.8292</td>\n",
              "      <td>NaN</td>\n",
              "      <td>Q</td>\n",
              "    </tr>\n",
              "    <tr>\n",
              "      <th>1</th>\n",
              "      <td>893</td>\n",
              "      <td>3</td>\n",
              "      <td>Wilkes, Mrs. James (Ellen Needs)</td>\n",
              "      <td>female</td>\n",
              "      <td>47.0</td>\n",
              "      <td>1</td>\n",
              "      <td>0</td>\n",
              "      <td>363272</td>\n",
              "      <td>7.0000</td>\n",
              "      <td>NaN</td>\n",
              "      <td>S</td>\n",
              "    </tr>\n",
              "    <tr>\n",
              "      <th>2</th>\n",
              "      <td>894</td>\n",
              "      <td>2</td>\n",
              "      <td>Myles, Mr. Thomas Francis</td>\n",
              "      <td>male</td>\n",
              "      <td>62.0</td>\n",
              "      <td>0</td>\n",
              "      <td>0</td>\n",
              "      <td>240276</td>\n",
              "      <td>9.6875</td>\n",
              "      <td>NaN</td>\n",
              "      <td>Q</td>\n",
              "    </tr>\n",
              "    <tr>\n",
              "      <th>3</th>\n",
              "      <td>895</td>\n",
              "      <td>3</td>\n",
              "      <td>Wirz, Mr. Albert</td>\n",
              "      <td>male</td>\n",
              "      <td>27.0</td>\n",
              "      <td>0</td>\n",
              "      <td>0</td>\n",
              "      <td>315154</td>\n",
              "      <td>8.6625</td>\n",
              "      <td>NaN</td>\n",
              "      <td>S</td>\n",
              "    </tr>\n",
              "    <tr>\n",
              "      <th>4</th>\n",
              "      <td>896</td>\n",
              "      <td>3</td>\n",
              "      <td>Hirvonen, Mrs. Alexander (Helga E Lindqvist)</td>\n",
              "      <td>female</td>\n",
              "      <td>22.0</td>\n",
              "      <td>1</td>\n",
              "      <td>1</td>\n",
              "      <td>3101298</td>\n",
              "      <td>12.2875</td>\n",
              "      <td>NaN</td>\n",
              "      <td>S</td>\n",
              "    </tr>\n",
              "  </tbody>\n",
              "</table>\n",
              "</div>"
            ]
          },
          "metadata": {
            "tags": []
          },
          "execution_count": 6
        }
      ]
    },
    {
      "cell_type": "markdown",
      "metadata": {
        "id": "UchvBvqV9Tut"
      },
      "source": [
        "Now, let's to check our data's keys (columns) and what the differences between `train_df` and `test_df` are (variable(s) to predict)."
      ]
    },
    {
      "cell_type": "code",
      "metadata": {
        "execution": {
          "iopub.status.busy": "2021-07-06T20:41:39.034719Z",
          "iopub.execute_input": "2021-07-06T20:41:39.035139Z",
          "iopub.status.idle": "2021-07-06T20:41:39.039571Z",
          "shell.execute_reply.started": "2021-07-06T20:41:39.035103Z",
          "shell.execute_reply": "2021-07-06T20:41:39.038758Z"
        },
        "trusted": true,
        "id": "iBbe4GkQ9Tut"
      },
      "source": [
        "keys_train = sorted(train.keys())\n",
        "keys_test = sorted(test.keys())"
      ],
      "execution_count": null,
      "outputs": []
    },
    {
      "cell_type": "code",
      "metadata": {
        "execution": {
          "iopub.status.busy": "2021-07-06T20:41:39.214638Z",
          "iopub.execute_input": "2021-07-06T20:41:39.215064Z",
          "iopub.status.idle": "2021-07-06T20:41:39.221863Z",
          "shell.execute_reply.started": "2021-07-06T20:41:39.215031Z",
          "shell.execute_reply": "2021-07-06T20:41:39.221006Z"
        },
        "trusted": true,
        "id": "ogJFbdA49Tut",
        "outputId": "4486249a-d716-4561-d49a-42a19de8e848"
      },
      "source": [
        "uncommon_key = []\n",
        "for key in keys_train:\n",
        "    if not key in keys_test:\n",
        "        uncommon_key.append(key)\n",
        "print(uncommon_key)"
      ],
      "execution_count": null,
      "outputs": [
        {
          "output_type": "stream",
          "text": [
            "['Survived']\n"
          ],
          "name": "stdout"
        }
      ]
    },
    {
      "cell_type": "markdown",
      "metadata": {
        "id": "hSIfHxBx9Tuu"
      },
      "source": [
        "For the beginning, we'll check our numerical data:"
      ]
    },
    {
      "cell_type": "code",
      "metadata": {
        "execution": {
          "iopub.status.busy": "2021-07-06T20:41:39.621414Z",
          "iopub.execute_input": "2021-07-06T20:41:39.621869Z",
          "iopub.status.idle": "2021-07-06T20:41:39.664112Z",
          "shell.execute_reply.started": "2021-07-06T20:41:39.621829Z",
          "shell.execute_reply": "2021-07-06T20:41:39.663155Z"
        },
        "trusted": true,
        "id": "fXueaM7y9Tuu",
        "outputId": "f0e5a3c4-b352-4314-9b77-85c3dd0064ed"
      },
      "source": [
        "train_df.describe()"
      ],
      "execution_count": null,
      "outputs": [
        {
          "output_type": "execute_result",
          "data": {
            "text/plain": [
              "       PassengerId    Survived      Pclass         Age       SibSp  \\\n",
              "count   891.000000  891.000000  891.000000  714.000000  891.000000   \n",
              "mean    446.000000    0.383838    2.308642   29.699118    0.523008   \n",
              "std     257.353842    0.486592    0.836071   14.526497    1.102743   \n",
              "min       1.000000    0.000000    1.000000    0.420000    0.000000   \n",
              "25%     223.500000    0.000000    2.000000   20.125000    0.000000   \n",
              "50%     446.000000    0.000000    3.000000   28.000000    0.000000   \n",
              "75%     668.500000    1.000000    3.000000   38.000000    1.000000   \n",
              "max     891.000000    1.000000    3.000000   80.000000    8.000000   \n",
              "\n",
              "            Parch        Fare  \n",
              "count  891.000000  891.000000  \n",
              "mean     0.381594   32.204208  \n",
              "std      0.806057   49.693429  \n",
              "min      0.000000    0.000000  \n",
              "25%      0.000000    7.910400  \n",
              "50%      0.000000   14.454200  \n",
              "75%      0.000000   31.000000  \n",
              "max      6.000000  512.329200  "
            ],
            "text/html": [
              "<div>\n",
              "<style scoped>\n",
              "    .dataframe tbody tr th:only-of-type {\n",
              "        vertical-align: middle;\n",
              "    }\n",
              "\n",
              "    .dataframe tbody tr th {\n",
              "        vertical-align: top;\n",
              "    }\n",
              "\n",
              "    .dataframe thead th {\n",
              "        text-align: right;\n",
              "    }\n",
              "</style>\n",
              "<table border=\"1\" class=\"dataframe\">\n",
              "  <thead>\n",
              "    <tr style=\"text-align: right;\">\n",
              "      <th></th>\n",
              "      <th>PassengerId</th>\n",
              "      <th>Survived</th>\n",
              "      <th>Pclass</th>\n",
              "      <th>Age</th>\n",
              "      <th>SibSp</th>\n",
              "      <th>Parch</th>\n",
              "      <th>Fare</th>\n",
              "    </tr>\n",
              "  </thead>\n",
              "  <tbody>\n",
              "    <tr>\n",
              "      <th>count</th>\n",
              "      <td>891.000000</td>\n",
              "      <td>891.000000</td>\n",
              "      <td>891.000000</td>\n",
              "      <td>714.000000</td>\n",
              "      <td>891.000000</td>\n",
              "      <td>891.000000</td>\n",
              "      <td>891.000000</td>\n",
              "    </tr>\n",
              "    <tr>\n",
              "      <th>mean</th>\n",
              "      <td>446.000000</td>\n",
              "      <td>0.383838</td>\n",
              "      <td>2.308642</td>\n",
              "      <td>29.699118</td>\n",
              "      <td>0.523008</td>\n",
              "      <td>0.381594</td>\n",
              "      <td>32.204208</td>\n",
              "    </tr>\n",
              "    <tr>\n",
              "      <th>std</th>\n",
              "      <td>257.353842</td>\n",
              "      <td>0.486592</td>\n",
              "      <td>0.836071</td>\n",
              "      <td>14.526497</td>\n",
              "      <td>1.102743</td>\n",
              "      <td>0.806057</td>\n",
              "      <td>49.693429</td>\n",
              "    </tr>\n",
              "    <tr>\n",
              "      <th>min</th>\n",
              "      <td>1.000000</td>\n",
              "      <td>0.000000</td>\n",
              "      <td>1.000000</td>\n",
              "      <td>0.420000</td>\n",
              "      <td>0.000000</td>\n",
              "      <td>0.000000</td>\n",
              "      <td>0.000000</td>\n",
              "    </tr>\n",
              "    <tr>\n",
              "      <th>25%</th>\n",
              "      <td>223.500000</td>\n",
              "      <td>0.000000</td>\n",
              "      <td>2.000000</td>\n",
              "      <td>20.125000</td>\n",
              "      <td>0.000000</td>\n",
              "      <td>0.000000</td>\n",
              "      <td>7.910400</td>\n",
              "    </tr>\n",
              "    <tr>\n",
              "      <th>50%</th>\n",
              "      <td>446.000000</td>\n",
              "      <td>0.000000</td>\n",
              "      <td>3.000000</td>\n",
              "      <td>28.000000</td>\n",
              "      <td>0.000000</td>\n",
              "      <td>0.000000</td>\n",
              "      <td>14.454200</td>\n",
              "    </tr>\n",
              "    <tr>\n",
              "      <th>75%</th>\n",
              "      <td>668.500000</td>\n",
              "      <td>1.000000</td>\n",
              "      <td>3.000000</td>\n",
              "      <td>38.000000</td>\n",
              "      <td>1.000000</td>\n",
              "      <td>0.000000</td>\n",
              "      <td>31.000000</td>\n",
              "    </tr>\n",
              "    <tr>\n",
              "      <th>max</th>\n",
              "      <td>891.000000</td>\n",
              "      <td>1.000000</td>\n",
              "      <td>3.000000</td>\n",
              "      <td>80.000000</td>\n",
              "      <td>8.000000</td>\n",
              "      <td>6.000000</td>\n",
              "      <td>512.329200</td>\n",
              "    </tr>\n",
              "  </tbody>\n",
              "</table>\n",
              "</div>"
            ]
          },
          "metadata": {
            "tags": []
          },
          "execution_count": 9
        }
      ]
    },
    {
      "cell_type": "markdown",
      "metadata": {
        "id": "x4nTTTJ19Tuu"
      },
      "source": [
        "We can see in the `count` row that there are some missing values in our `Age` column. In fact, there are 177 missing values (891 - 714); it will be important later and we'll need to do something similar with categorical variables."
      ]
    },
    {
      "cell_type": "markdown",
      "metadata": {
        "id": "ZNl6rU6K9Tuu"
      },
      "source": [
        "Now, let's try to visualize our `Survived` data grouped by gender and age:"
      ]
    },
    {
      "cell_type": "code",
      "metadata": {
        "execution": {
          "iopub.status.busy": "2021-07-06T20:41:40.220000Z",
          "iopub.execute_input": "2021-07-06T20:41:40.220439Z",
          "iopub.status.idle": "2021-07-06T20:41:40.227893Z",
          "shell.execute_reply.started": "2021-07-06T20:41:40.220402Z",
          "shell.execute_reply": "2021-07-06T20:41:40.227031Z"
        },
        "trusted": true,
        "id": "x3sHfUDe9Tuu"
      },
      "source": [
        "# Define a function which create and plot a new DF based on 'Survived' values.\n",
        "def plot_by_surv_died(data, based_on, stacked=True, colors_= ['purple','black']):\n",
        "    \n",
        "    # Obtain survivors and died counts\n",
        "    survive = data[data['Survived']==1][based_on].value_counts()\n",
        "    dead = data[data['Survived']==0][based_on].value_counts()\n",
        "    \n",
        "    # Place these values on a new DF\n",
        "    surv_dea_df = pd.DataFrame([survive, dead])\n",
        "    surv_dea_df.index = ['Survived','Died']\n",
        "    surv_dea_df.plot(kind='bar', stacked=stacked, color=colors_)"
      ],
      "execution_count": null,
      "outputs": []
    },
    {
      "cell_type": "code",
      "metadata": {
        "execution": {
          "iopub.status.busy": "2021-07-06T20:41:40.452465Z",
          "iopub.execute_input": "2021-07-06T20:41:40.453025Z",
          "iopub.status.idle": "2021-07-06T20:41:40.467671Z",
          "shell.execute_reply.started": "2021-07-06T20:41:40.452991Z",
          "shell.execute_reply": "2021-07-06T20:41:40.466332Z"
        },
        "trusted": true,
        "id": "C0-pZm7h9Tuv"
      },
      "source": [
        "survive = train_df[train_df['Survived']==1]['Sex'].value_counts()\n",
        "dead = train_df[train_df['Survived']==0]['Sex'].value_counts()"
      ],
      "execution_count": null,
      "outputs": []
    },
    {
      "cell_type": "code",
      "metadata": {
        "execution": {
          "iopub.status.busy": "2021-07-06T20:41:40.665238Z",
          "iopub.execute_input": "2021-07-06T20:41:40.665990Z",
          "iopub.status.idle": "2021-07-06T20:41:40.864987Z",
          "shell.execute_reply.started": "2021-07-06T20:41:40.665929Z",
          "shell.execute_reply": "2021-07-06T20:41:40.863697Z"
        },
        "trusted": true,
        "id": "8mero0BZ9Tuv",
        "outputId": "b2cf3b02-6011-41dc-ada1-9ad5d11fa67b"
      },
      "source": [
        "plot_by_surv_died(train_df, 'Sex')"
      ],
      "execution_count": null,
      "outputs": [
        {
          "output_type": "display_data",
          "data": {
            "text/plain": [
              "<Figure size 432x288 with 1 Axes>"
            ],
            "image/png": "[encoded data removed]"
          },
          "metadata": {
            "tags": [],
            "needs_background": "light"
          }
        }
      ]
    },
    {
      "cell_type": "code",
      "metadata": {
        "execution": {
          "iopub.status.busy": "2021-07-06T20:41:40.897535Z",
          "iopub.execute_input": "2021-07-06T20:41:40.897943Z",
          "iopub.status.idle": "2021-07-06T20:41:40.904404Z",
          "shell.execute_reply.started": "2021-07-06T20:41:40.897909Z",
          "shell.execute_reply": "2021-07-06T20:41:40.903165Z"
        },
        "trusted": true,
        "id": "ulQhM0DO9Tuv",
        "outputId": "a71ec5d5-a20e-4bec-d192-c38a79184075"
      },
      "source": [
        "print(f'---> Survive ʕ-ᴥ-ʔ <---\\n\\n{survive}')"
      ],
      "execution_count": null,
      "outputs": [
        {
          "output_type": "stream",
          "text": [
            "---> Survive ʕ-ᴥ-ʔ <---\n",
            "\n",
            "female    233\n",
            "male      109\n",
            "Name: Sex, dtype: int64\n"
          ],
          "name": "stdout"
        }
      ]
    },
    {
      "cell_type": "code",
      "metadata": {
        "execution": {
          "iopub.status.busy": "2021-07-06T20:41:41.105215Z",
          "iopub.execute_input": "2021-07-06T20:41:41.105659Z",
          "iopub.status.idle": "2021-07-06T20:41:41.312342Z",
          "shell.execute_reply.started": "2021-07-06T20:41:41.105620Z",
          "shell.execute_reply": "2021-07-06T20:41:41.311214Z"
        },
        "trusted": true,
        "id": "BXPKurQ49Tuv",
        "outputId": "7a0f451b-f1d6-486b-f56a-0ed2ad920989"
      },
      "source": [
        "sns.violinplot(x='Sex', y='Age', hue='Survived', data=train_df, split=True, palette='Set1')"
      ],
      "execution_count": null,
      "outputs": [
        {
          "output_type": "execute_result",
          "data": {
            "text/plain": [
              "<AxesSubplot:xlabel='Sex', ylabel='Age'>"
            ]
          },
          "metadata": {
            "tags": []
          },
          "execution_count": 14
        },
        {
          "output_type": "display_data",
          "data": {
            "text/plain": [
              "<Figure size 432x288 with 1 Axes>"
            ],
            "image/png": "[encoded data removed]"
          },
          "metadata": {
            "tags": [],
            "needs_background": "light"
          }
        }
      ]
    },
    {
      "cell_type": "markdown",
      "metadata": {
        "id": "iKConLQO9Tuw"
      },
      "source": [
        "It's interesting to see how in men case the difference of surviving probabilities had reduced in base on how old they were, more specifically, men between 20's 35's tended to survive more than older men (40's - 80's). By the other hand, in the women case they survived compararively well on all the age groups."
      ]
    },
    {
      "cell_type": "markdown",
      "metadata": {
        "id": "R2_OfxKA9Tuw"
      },
      "source": [
        "Now, why not try to visualice if there ir an corelation between ticket `fare` and probabilities to survive? In this case we could imagine these probabilities are based on their position on the ship or their priority to be rescued."
      ]
    },
    {
      "cell_type": "code",
      "metadata": {
        "execution": {
          "iopub.status.busy": "2021-07-06T20:41:42.180603Z",
          "iopub.execute_input": "2021-07-06T20:41:42.181038Z",
          "iopub.status.idle": "2021-07-06T20:41:42.650563Z",
          "shell.execute_reply.started": "2021-07-06T20:41:42.181005Z",
          "shell.execute_reply": "2021-07-06T20:41:42.649695Z"
        },
        "trusted": true,
        "id": "sucqOit59Tuw",
        "outputId": "bb5430bb-8672-410a-f0d1-6932350f7fab"
      },
      "source": [
        "figure = plt.figure(figsize=(15,15))\n",
        "plt.hist([train_df[train_df['Survived']==0]['Fare'],\n",
        "          train_df[train_df['Survived']==1]['Fare']],\n",
        "         stacked=True,\n",
        "         color = ['Red','Green'],\n",
        "         bins = 50,\n",
        "         label = ['Died', 'Survived']\n",
        "        )\n",
        "plt.xlabel('Fare')\n",
        "plt.grid()\n",
        "plt.ylabel('# of Passengers')\n",
        "plt.legend()"
      ],
      "execution_count": null,
      "outputs": [
        {
          "output_type": "execute_result",
          "data": {
            "text/plain": [
              "<matplotlib.legend.Legend at 0x7fad78b74a90>"
            ]
          },
          "metadata": {
            "tags": []
          },
          "execution_count": 15
        },
        {
          "output_type": "display_data",
          "data": {
            "text/plain": [
              "<Figure size 1080x1080 with 1 Axes>"
            ],
            "image/png": "[encoded data removed]"
          },
          "metadata": {
            "tags": [],
            "needs_background": "light"
          }
        }
      ]
    },
    {
      "cell_type": "code",
      "metadata": {
        "execution": {
          "iopub.status.busy": "2021-07-06T20:41:42.651916Z",
          "iopub.execute_input": "2021-07-06T20:41:42.652193Z",
          "iopub.status.idle": "2021-07-06T20:41:42.827023Z",
          "shell.execute_reply.started": "2021-07-06T20:41:42.652165Z",
          "shell.execute_reply": "2021-07-06T20:41:42.825864Z"
        },
        "trusted": true,
        "id": "K0GVbKnk9Tux",
        "outputId": "d6f976ce-70b2-478d-b365-d9524ccb3d4a"
      },
      "source": [
        "plot_by_surv_died(train_df, 'Pclass', colors_=['#FFD700','#C0C0C0','#8C7853'])\n",
        "plt.legend(['1st class','2nd class','3rd class'])"
      ],
      "execution_count": null,
      "outputs": [
        {
          "output_type": "execute_result",
          "data": {
            "text/plain": [
              "<matplotlib.legend.Legend at 0x7fad78a6cd50>"
            ]
          },
          "metadata": {
            "tags": []
          },
          "execution_count": 16
        },
        {
          "output_type": "display_data",
          "data": {
            "text/plain": [
              "<Figure size 432x288 with 1 Axes>"
            ],
            "image/png": "[encoded data removed]"
          },
          "metadata": {
            "tags": [],
            "needs_background": "light"
          }
        }
      ]
    },
    {
      "cell_type": "markdown",
      "metadata": {
        "id": "AwbeD9AY9Tux"
      },
      "source": [
        "Despite of there was a very little part of expensive tickets passengers, the most part of them survived. By the other hand, more than half people who bought the cheapest tickets died. Were there a kind of priority of rescue based on their social status, or it's more kind of a statistical mean based on the quantity of passengers in each fare kind?"
      ]
    },
    {
      "cell_type": "markdown",
      "metadata": {
        "id": "y4xkFmeQ9Tux"
      },
      "source": [
        "## Removing missing values and unnecessary data 🔨"
      ]
    },
    {
      "cell_type": "markdown",
      "metadata": {
        "id": "oNDOLoU39Tuy"
      },
      "source": [
        "Next, we'll return to check our missing data before to remove unnecessary variables."
      ]
    },
    {
      "cell_type": "code",
      "metadata": {
        "execution": {
          "iopub.status.busy": "2021-07-06T21:26:32.368947Z",
          "iopub.execute_input": "2021-07-06T21:26:32.369674Z",
          "iopub.status.idle": "2021-07-06T21:26:32.391649Z",
          "shell.execute_reply.started": "2021-07-06T21:26:32.369629Z",
          "shell.execute_reply": "2021-07-06T21:26:32.389889Z"
        },
        "trusted": true,
        "id": "6iH-grFn9Tuy",
        "outputId": "f29c4ac5-9c40-4eee-cee1-5fb92573bff8"
      },
      "source": [
        "train_df.info()"
      ],
      "execution_count": null,
      "outputs": [
        {
          "output_type": "stream",
          "text": [
            "<class 'pandas.core.frame.DataFrame'>\n",
            "RangeIndex: 891 entries, 0 to 890\n",
            "Data columns (total 12 columns):\n",
            " #   Column       Non-Null Count  Dtype  \n",
            "---  ------       --------------  -----  \n",
            " 0   PassengerId  891 non-null    int64  \n",
            " 1   Survived     891 non-null    int64  \n",
            " 2   Pclass       891 non-null    int64  \n",
            " 3   Name         891 non-null    object \n",
            " 4   Sex          891 non-null    object \n",
            " 5   Age          714 non-null    float64\n",
            " 6   SibSp        891 non-null    int64  \n",
            " 7   Parch        891 non-null    int64  \n",
            " 8   Ticket       891 non-null    object \n",
            " 9   Fare         891 non-null    float64\n",
            " 10  Cabin        204 non-null    object \n",
            " 11  Embarked     889 non-null    object \n",
            "dtypes: float64(2), int64(5), object(5)\n",
            "memory usage: 83.7+ KB\n"
          ],
          "name": "stdout"
        }
      ]
    },
    {
      "cell_type": "code",
      "metadata": {
        "execution": {
          "iopub.status.busy": "2021-07-06T21:50:01.133304Z",
          "iopub.execute_input": "2021-07-06T21:50:01.133904Z",
          "iopub.status.idle": "2021-07-06T21:50:01.149735Z",
          "shell.execute_reply.started": "2021-07-06T21:50:01.133868Z",
          "shell.execute_reply": "2021-07-06T21:50:01.148952Z"
        },
        "trusted": true,
        "id": "InDh9_ZU9Tuy",
        "outputId": "25f9f8cc-e7c6-4147-c996-209292711f2e"
      },
      "source": [
        "print(train_df.isnull())"
      ],
      "execution_count": null,
      "outputs": [
        {
          "output_type": "stream",
          "text": [
            "     PassengerId  Survived  Pclass   Name    Sex    Age  SibSp  Parch  Ticket  \\\n",
            "0          False     False   False  False  False  False  False  False   False   \n",
            "1          False     False   False  False  False  False  False  False   False   \n",
            "2          False     False   False  False  False  False  False  False   False   \n",
            "3          False     False   False  False  False  False  False  False   False   \n",
            "4          False     False   False  False  False  False  False  False   False   \n",
            "..           ...       ...     ...    ...    ...    ...    ...    ...     ...   \n",
            "886        False     False   False  False  False  False  False  False   False   \n",
            "887        False     False   False  False  False  False  False  False   False   \n",
            "888        False     False   False  False  False   True  False  False   False   \n",
            "889        False     False   False  False  False  False  False  False   False   \n",
            "890        False     False   False  False  False  False  False  False   False   \n",
            "\n",
            "      Fare  Cabin  Embarked  \n",
            "0    False   True     False  \n",
            "1    False  False     False  \n",
            "2    False   True     False  \n",
            "3    False  False     False  \n",
            "4    False   True     False  \n",
            "..     ...    ...       ...  \n",
            "886  False   True     False  \n",
            "887  False  False     False  \n",
            "888  False   True     False  \n",
            "889  False  False     False  \n",
            "890  False   True     False  \n",
            "\n",
            "[891 rows x 12 columns]\n"
          ],
          "name": "stdout"
        }
      ]
    },
    {
      "cell_type": "markdown",
      "metadata": {
        "id": "xZzD3KCU9Tuy"
      },
      "source": [
        "Print which columns have null (Zero or NaN) values."
      ]
    },
    {
      "cell_type": "code",
      "metadata": {
        "execution": {
          "iopub.status.busy": "2021-07-06T21:50:04.074870Z",
          "iopub.execute_input": "2021-07-06T21:50:04.075666Z",
          "iopub.status.idle": "2021-07-06T21:50:04.088067Z",
          "shell.execute_reply.started": "2021-07-06T21:50:04.075611Z",
          "shell.execute_reply": "2021-07-06T21:50:04.086825Z"
        },
        "trusted": true,
        "id": "dJss8DhR9Tuz",
        "outputId": "804074ac-d6a2-46eb-c035-1c2a6bc95f0f"
      },
      "source": [
        "print(train_df.isnull().any())"
      ],
      "execution_count": null,
      "outputs": [
        {
          "output_type": "stream",
          "text": [
            "PassengerId    False\n",
            "Survived       False\n",
            "Pclass         False\n",
            "Name           False\n",
            "Sex            False\n",
            "Age             True\n",
            "SibSp          False\n",
            "Parch          False\n",
            "Ticket         False\n",
            "Fare           False\n",
            "Cabin           True\n",
            "Embarked        True\n",
            "dtype: bool\n"
          ],
          "name": "stdout"
        }
      ]
    },
    {
      "cell_type": "code",
      "metadata": {
        "execution": {
          "iopub.status.busy": "2021-07-06T21:53:52.950730Z",
          "iopub.execute_input": "2021-07-06T21:53:52.951156Z",
          "iopub.status.idle": "2021-07-06T21:53:52.956324Z",
          "shell.execute_reply.started": "2021-07-06T21:53:52.951123Z",
          "shell.execute_reply": "2021-07-06T21:53:52.955475Z"
        },
        "trusted": true,
        "id": "RyWfK3s29Tuz"
      },
      "source": [
        "def plotting_missing_data(dataset):\n",
        "    # Conf\n",
        "    fig, ax = plt.subplots(figsize=(5,5))\n",
        "    plt.title('Missing data')\n",
        "    # Hearmap without color bar\n",
        "    sns.heatmap(train_df.isnull(), cbar=False, \n",
        "                cmap=sns.color_palette(\"rocket_r\", as_cmap=True) )"
      ],
      "execution_count": null,
      "outputs": []
    },
    {
      "cell_type": "markdown",
      "metadata": {
        "id": "7nEmgeni9Tuz"
      },
      "source": [
        "We have some missing values on `Age`, `Cabin` and `Embarked`. Let's to visualize it:"
      ]
    },
    {
      "cell_type": "code",
      "metadata": {
        "execution": {
          "iopub.status.busy": "2021-07-06T21:53:53.517786Z",
          "iopub.execute_input": "2021-07-06T21:53:53.518346Z",
          "iopub.status.idle": "2021-07-06T21:53:53.900553Z",
          "shell.execute_reply.started": "2021-07-06T21:53:53.518309Z",
          "shell.execute_reply": "2021-07-06T21:53:53.899667Z"
        },
        "trusted": true,
        "id": "8fRLbbBE9Tuz",
        "outputId": "81c1584e-b97d-4555-f71d-52754adc8d69"
      },
      "source": [
        "plotting_missing_data(train_df)"
      ],
      "execution_count": null,
      "outputs": [
        {
          "output_type": "display_data",
          "data": {
            "text/plain": [
              "<Figure size 360x360 with 1 Axes>"
            ],
            "image/png": "[encoded data removed]"
          },
          "metadata": {
            "tags": [],
            "needs_background": "light"
          }
        }
      ]
    },
    {
      "cell_type": "markdown",
      "metadata": {
        "id": "WOy_rbfO9Tuz"
      },
      "source": [
        "but first of all, let's try to convert our values `male`, `female` into 0, 1."
      ]
    },
    {
      "cell_type": "markdown",
      "metadata": {
        "id": "lYPsunjq9Tu0"
      },
      "source": [
        "We will use class `sklearn.preprocessing.LabelEncoder` which encode target labels with value between 0 and n_classes-1; in this case, between $0$ and $1$."
      ]
    },
    {
      "cell_type": "code",
      "metadata": {
        "execution": {
          "iopub.status.busy": "2021-07-06T22:00:59.566084Z",
          "iopub.execute_input": "2021-07-06T22:00:59.566628Z",
          "iopub.status.idle": "2021-07-06T22:00:59.585720Z",
          "shell.execute_reply.started": "2021-07-06T22:00:59.566596Z",
          "shell.execute_reply": "2021-07-06T22:00:59.584554Z"
        },
        "trusted": true,
        "id": "pwVV9Qmm9Tu0",
        "outputId": "4007c9c1-e049-4f6b-d8a5-a07fc0bfebc9"
      },
      "source": [
        "label_encoder = preprocessing.LabelEncoder()\n",
        "encoder_sex = label_encoder.fit_transform(train_df['Sex'])\n",
        "train_df['Sex'] = encoder_sex\n",
        "train_df.head(5)"
      ],
      "execution_count": null,
      "outputs": [
        {
          "output_type": "execute_result",
          "data": {
            "text/plain": [
              "   PassengerId  Survived  Pclass  \\\n",
              "0            1         0       3   \n",
              "1            2         1       1   \n",
              "2            3         1       3   \n",
              "3            4         1       1   \n",
              "4            5         0       3   \n",
              "\n",
              "                                                Name  Sex   Age  SibSp  Parch  \\\n",
              "0                            Braund, Mr. Owen Harris    1  22.0      1      0   \n",
              "1  Cumings, Mrs. John Bradley (Florence Briggs Th...    0  38.0      1      0   \n",
              "2                             Heikkinen, Miss. Laina    0  26.0      0      0   \n",
              "3       Futrelle, Mrs. Jacques Heath (Lily May Peel)    0  35.0      1      0   \n",
              "4                           Allen, Mr. William Henry    1  35.0      0      0   \n",
              "\n",
              "             Ticket     Fare Cabin Embarked  \n",
              "0         A/5 21171   7.2500   NaN        S  \n",
              "1          PC 17599  71.2833   C85        C  \n",
              "2  STON/O2. 3101282   7.9250   NaN        S  \n",
              "3            113803  53.1000  C123        S  \n",
              "4            373450   8.0500   NaN        S  "
            ],
            "text/html": [
              "<div>\n",
              "<style scoped>\n",
              "    .dataframe tbody tr th:only-of-type {\n",
              "        vertical-align: middle;\n",
              "    }\n",
              "\n",
              "    .dataframe tbody tr th {\n",
              "        vertical-align: top;\n",
              "    }\n",
              "\n",
              "    .dataframe thead th {\n",
              "        text-align: right;\n",
              "    }\n",
              "</style>\n",
              "<table border=\"1\" class=\"dataframe\">\n",
              "  <thead>\n",
              "    <tr style=\"text-align: right;\">\n",
              "      <th></th>\n",
              "      <th>PassengerId</th>\n",
              "      <th>Survived</th>\n",
              "      <th>Pclass</th>\n",
              "      <th>Name</th>\n",
              "      <th>Sex</th>\n",
              "      <th>Age</th>\n",
              "      <th>SibSp</th>\n",
              "      <th>Parch</th>\n",
              "      <th>Ticket</th>\n",
              "      <th>Fare</th>\n",
              "      <th>Cabin</th>\n",
              "      <th>Embarked</th>\n",
              "    </tr>\n",
              "  </thead>\n",
              "  <tbody>\n",
              "    <tr>\n",
              "      <th>0</th>\n",
              "      <td>1</td>\n",
              "      <td>0</td>\n",
              "      <td>3</td>\n",
              "      <td>Braund, Mr. Owen Harris</td>\n",
              "      <td>1</td>\n",
              "      <td>22.0</td>\n",
              "      <td>1</td>\n",
              "      <td>0</td>\n",
              "      <td>A/5 21171</td>\n",
              "      <td>7.2500</td>\n",
              "      <td>NaN</td>\n",
              "      <td>S</td>\n",
              "    </tr>\n",
              "    <tr>\n",
              "      <th>1</th>\n",
              "      <td>2</td>\n",
              "      <td>1</td>\n",
              "      <td>1</td>\n",
              "      <td>Cumings, Mrs. John Bradley (Florence Briggs Th...</td>\n",
              "      <td>0</td>\n",
              "      <td>38.0</td>\n",
              "      <td>1</td>\n",
              "      <td>0</td>\n",
              "      <td>PC 17599</td>\n",
              "      <td>71.2833</td>\n",
              "      <td>C85</td>\n",
              "      <td>C</td>\n",
              "    </tr>\n",
              "    <tr>\n",
              "      <th>2</th>\n",
              "      <td>3</td>\n",
              "      <td>1</td>\n",
              "      <td>3</td>\n",
              "      <td>Heikkinen, Miss. Laina</td>\n",
              "      <td>0</td>\n",
              "      <td>26.0</td>\n",
              "      <td>0</td>\n",
              "      <td>0</td>\n",
              "      <td>STON/O2. 3101282</td>\n",
              "      <td>7.9250</td>\n",
              "      <td>NaN</td>\n",
              "      <td>S</td>\n",
              "    </tr>\n",
              "    <tr>\n",
              "      <th>3</th>\n",
              "      <td>4</td>\n",
              "      <td>1</td>\n",
              "      <td>1</td>\n",
              "      <td>Futrelle, Mrs. Jacques Heath (Lily May Peel)</td>\n",
              "      <td>0</td>\n",
              "      <td>35.0</td>\n",
              "      <td>1</td>\n",
              "      <td>0</td>\n",
              "      <td>113803</td>\n",
              "      <td>53.1000</td>\n",
              "      <td>C123</td>\n",
              "      <td>S</td>\n",
              "    </tr>\n",
              "    <tr>\n",
              "      <th>4</th>\n",
              "      <td>5</td>\n",
              "      <td>0</td>\n",
              "      <td>3</td>\n",
              "      <td>Allen, Mr. William Henry</td>\n",
              "      <td>1</td>\n",
              "      <td>35.0</td>\n",
              "      <td>0</td>\n",
              "      <td>0</td>\n",
              "      <td>373450</td>\n",
              "      <td>8.0500</td>\n",
              "      <td>NaN</td>\n",
              "      <td>S</td>\n",
              "    </tr>\n",
              "  </tbody>\n",
              "</table>\n",
              "</div>"
            ]
          },
          "metadata": {
            "tags": []
          },
          "execution_count": 61
        }
      ]
    },
    {
      "cell_type": "markdown",
      "metadata": {
        "id": "rGM5njpU9Tu0"
      },
      "source": [
        "In this case we have, `men` =1 and `female` = 0."
      ]
    },
    {
      "cell_type": "markdown",
      "metadata": {
        "id": "ly5u9YDf9Tu0"
      },
      "source": [
        "Now it's time to clean out null values. We will start with our numerical data, we could replace them with mean values."
      ]
    },
    {
      "cell_type": "code",
      "metadata": {
        "execution": {
          "iopub.status.busy": "2021-07-06T22:15:23.172498Z",
          "iopub.execute_input": "2021-07-06T22:15:23.172924Z",
          "iopub.status.idle": "2021-07-06T22:15:23.186071Z",
          "shell.execute_reply.started": "2021-07-06T22:15:23.172890Z",
          "shell.execute_reply": "2021-07-06T22:15:23.184524Z"
        },
        "trusted": true,
        "id": "gQFepvH89Tu0",
        "outputId": "c1cb62b6-5c18-4546-e5d8-6cfb4e319dad"
      },
      "source": [
        "train['Age'] = train['Age'].fillna(train['Age'].median())\n",
        "print(train_df.isnull().any())"
      ],
      "execution_count": null,
      "outputs": [
        {
          "output_type": "stream",
          "text": [
            "PassengerId    False\n",
            "Survived       False\n",
            "Pclass         False\n",
            "Name           False\n",
            "Sex            False\n",
            "Age            False\n",
            "SibSp          False\n",
            "Parch          False\n",
            "Ticket         False\n",
            "Fare           False\n",
            "Cabin           True\n",
            "Embarked        True\n",
            "dtype: bool\n"
          ],
          "name": "stdout"
        }
      ]
    },
    {
      "cell_type": "code",
      "metadata": {
        "execution": {
          "iopub.status.busy": "2021-07-06T22:16:20.685000Z",
          "iopub.execute_input": "2021-07-06T22:16:20.685415Z",
          "iopub.status.idle": "2021-07-06T22:16:21.091055Z",
          "shell.execute_reply.started": "2021-07-06T22:16:20.685368Z",
          "shell.execute_reply": "2021-07-06T22:16:21.089555Z"
        },
        "trusted": true,
        "id": "of_xa8wg9Tu1",
        "outputId": "78929c7b-59cf-4a95-fd00-c6c07f945b39"
      },
      "source": [
        "plotting_missing_data(train_df)"
      ],
      "execution_count": null,
      "outputs": [
        {
          "output_type": "display_data",
          "data": {
            "text/plain": [
              "<Figure size 360x360 with 1 Axes>"
            ],
            "image/png": "[encoded data removed]"
          },
          "metadata": {
            "tags": [],
            "needs_background": "light"
          }
        }
      ]
    },
    {
      "cell_type": "markdown",
      "metadata": {
        "id": "VBpqS0zL9Tu1"
      },
      "source": [
        "Then, let's do something similar with categorical data (`Cabin` and `Embarked`). We'll start with `Embarked` because there are very few non values:"
      ]
    },
    {
      "cell_type": "code",
      "metadata": {
        "execution": {
          "iopub.status.busy": "2021-07-06T22:24:35.958545Z",
          "iopub.execute_input": "2021-07-06T22:24:35.958893Z",
          "iopub.status.idle": "2021-07-06T22:24:35.966880Z",
          "shell.execute_reply.started": "2021-07-06T22:24:35.958863Z",
          "shell.execute_reply": "2021-07-06T22:24:35.965515Z"
        },
        "trusted": true,
        "id": "mPtZczI-9Tu1",
        "outputId": "24c4a9ac-d257-4998-b602-46e9657b8bb8"
      },
      "source": [
        "train_df['Embarked'].isnull().sum()"
      ],
      "execution_count": null,
      "outputs": [
        {
          "output_type": "execute_result",
          "data": {
            "text/plain": [
              "2"
            ]
          },
          "metadata": {
            "tags": []
          },
          "execution_count": 75
        }
      ]
    },
    {
      "cell_type": "markdown",
      "metadata": {
        "id": "IwE4rO3E9Tu1"
      },
      "source": [
        "There are only 2 non values, so, we'll fill there with a 'S' value:"
      ]
    },
    {
      "cell_type": "code",
      "metadata": {
        "execution": {
          "iopub.status.busy": "2021-07-06T22:25:37.859844Z",
          "iopub.execute_input": "2021-07-06T22:25:37.860270Z",
          "iopub.status.idle": "2021-07-06T22:25:37.867222Z",
          "shell.execute_reply.started": "2021-07-06T22:25:37.860236Z",
          "shell.execute_reply": "2021-07-06T22:25:37.865847Z"
        },
        "trusted": true,
        "id": "SKj6GkCt9Tu1"
      },
      "source": [
        "train_df['Embarked'] = train_df['Embarked'].fillna('S')"
      ],
      "execution_count": null,
      "outputs": []
    },
    {
      "cell_type": "code",
      "metadata": {
        "execution": {
          "iopub.status.busy": "2021-07-06T22:25:50.136751Z",
          "iopub.execute_input": "2021-07-06T22:25:50.137147Z",
          "iopub.status.idle": "2021-07-06T22:25:50.519014Z",
          "shell.execute_reply.started": "2021-07-06T22:25:50.137115Z",
          "shell.execute_reply": "2021-07-06T22:25:50.518259Z"
        },
        "trusted": true,
        "id": "q0BOOFHQ9Tu1",
        "outputId": "9f3808b0-5ddb-4513-97af-49917419ae7a"
      },
      "source": [
        "plotting_missing_data(train_df)"
      ],
      "execution_count": null,
      "outputs": [
        {
          "output_type": "display_data",
          "data": {
            "text/plain": [
              "<Figure size 360x360 with 1 Axes>"
            ],
            "image/png": "[encoded data removed]"
          },
          "metadata": {
            "tags": [],
            "needs_background": "light"
          }
        }
      ]
    },
    {
      "cell_type": "markdown",
      "metadata": {
        "id": "fBqpWq469Tu2"
      },
      "source": [
        "The last one, is our Cabin column. In this case we have a lot of missing values so, trying to not change our data, we will replace the missing cabbing with letter U referring to `Unknown`."
      ]
    },
    {
      "cell_type": "code",
      "metadata": {
        "execution": {
          "iopub.status.busy": "2021-07-06T22:32:19.524358Z",
          "iopub.execute_input": "2021-07-06T22:32:19.524752Z",
          "iopub.status.idle": "2021-07-06T22:32:19.531557Z",
          "shell.execute_reply.started": "2021-07-06T22:32:19.524720Z",
          "shell.execute_reply": "2021-07-06T22:32:19.530197Z"
        },
        "trusted": true,
        "id": "T8TbYMT79Tu2"
      },
      "source": [
        "train_df['Cabin'] = train_df['Cabin'].fillna('U')"
      ],
      "execution_count": null,
      "outputs": []
    },
    {
      "cell_type": "code",
      "metadata": {
        "execution": {
          "iopub.status.busy": "2021-07-06T22:32:24.478791Z",
          "iopub.execute_input": "2021-07-06T22:32:24.479182Z",
          "iopub.status.idle": "2021-07-06T22:32:24.889029Z",
          "shell.execute_reply.started": "2021-07-06T22:32:24.479150Z",
          "shell.execute_reply": "2021-07-06T22:32:24.887979Z"
        },
        "trusted": true,
        "id": "amdIj-X69Tu2",
        "outputId": "d5ca17df-e99b-4fa5-bbd9-84663b37a77a"
      },
      "source": [
        "plotting_missing_data(train_df)"
      ],
      "execution_count": null,
      "outputs": [
        {
          "output_type": "display_data",
          "data": {
            "text/plain": [
              "<Figure size 360x360 with 1 Axes>"
            ],
            "image/png": "[encoded data removed]"
          },
          "metadata": {
            "tags": [],
            "needs_background": "light"
          }
        }
      ]
    },
    {
      "cell_type": "markdown",
      "metadata": {
        "execution": {
          "iopub.status.busy": "2021-07-06T22:32:50.356353Z",
          "iopub.execute_input": "2021-07-06T22:32:50.356945Z",
          "iopub.status.idle": "2021-07-06T22:32:50.364000Z",
          "shell.execute_reply.started": "2021-07-06T22:32:50.356909Z",
          "shell.execute_reply": "2021-07-06T22:32:50.362462Z"
        },
        "id": "2adM5vFi9Tu2"
      },
      "source": [
        "---"
      ]
    },
    {
      "cell_type": "code",
      "metadata": {
        "id": "IfK0MUNu9Tu2"
      },
      "source": [
        ""
      ],
      "execution_count": null,
      "outputs": []
    }
  ]
}